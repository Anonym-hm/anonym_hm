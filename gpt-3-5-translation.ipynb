{
 "cells": [
  {
   "cell_type": "markdown",
   "id": "eb0c8cdf",
   "metadata": {},
   "source": [
    "# Dataset Translation\n",
    "\n",
    "In the paper, we introduce HistoiresMorales, a French dataset built upon a corpus of human-written moral stories in English called MORALSTORIES. \n",
    "This dataset was introduced by Emelin et al., 2021: https://aclanthology.org/2021.emnlp-main.54/.\n",
    "\n",
    "We use gpt-3.5-turbo-16k model for translations, accessed via the Chat Completions API in November 2023. \n",
    "That is the model for completion released by OpenAI :https://platform.openai.com/docs/models. The model is trained on data up to Sep 2021.\n",
    "\n",
    "We initiate the data translation process with a simple prompt and refine it through human feedback. Below, we describe the construction of the prompt body and the corresponding data annotation procedures.\n",
    "\n",
    "In this notebook, we provide code that we use for translating the data. We describe the process of translating the data in the section \"Second Annotations Stage\" of the paper. \n",
    "\n",
    "Running this code requires `datasets==2.13.1` and `openai==1.12.0` packages listed below and in ```requirements.txt```."
   ]
  },
  {
   "cell_type": "code",
   "execution_count": 1,
   "id": "62w9L9m_vxmy",
   "metadata": {
    "colab": {
     "base_uri": "https://localhost:8080/"
    },
    "id": "62w9L9m_vxmy",
    "outputId": "5986ccbf-3b2c-4532-e6f6-de5e48ff3a57"
   },
   "outputs": [
    {
     "name": "stdout",
     "output_type": "stream",
     "text": [
      "Note: you may need to restart the kernel to use updated packages.\n",
      "Note: you may need to restart the kernel to use updated packages.\n",
      "Note: you may need to restart the kernel to use updated packages.\n"
     ]
    }
   ],
   "source": [
    "%pip install datasets openai -q\n",
    "%pip install --upgrade typing-extensions -q\n",
    "%pip install tiktoken -q"
   ]
  },
  {
   "cell_type": "markdown",
   "id": "F3hRCooOFTR-",
   "metadata": {
    "id": "F3hRCooOFTR-"
   },
   "source": [
    "# Dataset loading"
   ]
  },
  {
   "cell_type": "code",
   "execution_count": 2,
   "id": "81a9b77f",
   "metadata": {
    "id": "81a9b77f"
   },
   "outputs": [],
   "source": [
    "# if you see error here ImportError: cannot import name 'Iterator' from 'typing_extensions'\n",
    "# -> restart session (Redemarrer la session in Colab or restart kernel in Jupyter)\n",
    "import pandas as pd\n",
    "from datasets import load_dataset\n",
    "import os\n",
    "import json\n",
    "import matplotlib.pyplot as plt\n",
    "from time import sleep\n",
    "from tqdm import tqdm\n",
    "from difflib import ndiff\n",
    "from collections import Counter\n",
    "import tiktoken\n",
    "from openai import OpenAI"
   ]
  },
  {
   "cell_type": "code",
   "execution_count": 3,
   "id": "a3755031",
   "metadata": {
    "colab": {
     "base_uri": "https://localhost:8080/",
     "height": 360,
     "referenced_widgets": [
      "77c362df5090456f95aa01fe2fb7e5e7",
      "2acb0255768c43cfba1c623b1d78c479",
      "a3a9a5c7729c49f3b61ac50afe8a39aa",
      "f7d5f930322e42299dc85674622cd3a0",
      "e153a96ed4c14a1ca6733e3d34530ad9",
      "225d29f5aff74da5a7e582865439468b",
      "591c5f79a8d643ae9f5379f00651cd35",
      "317164e1e49a4db2b121daf19b1cd892",
      "a1a4dc61371b4eeebfc61e071e7c778b",
      "a20e6cca1fdc465b9d2430ab836695be",
      "23a9268b3dbf4972b4ff8e56c1c6474f",
      "9078020b38b8439190dcaf7ea3d3e1e8",
      "0157849bba7c4b028fc0cab939edd013",
      "96ae87b513f740d6a5e68edfab6ff248",
      "3e9bed053c334da883c74efa2d0bac7d",
      "ca9f3d27412048e089ff5b3a6d69641e",
      "7512987d129048f699347fd8bec4d0c2",
      "85da4f66789747199d0996bf475cd370",
      "5c953092dad5452c87c42d1d754e6871",
      "ce609a640b6f4012bc9766f14b74b635",
      "338c387090bf400d9257ad31c23327cf",
      "f88bc87d14154d0bbc5ecef10d9cc527"
     ]
    },
    "id": "a3755031",
    "outputId": "5d149762-ec6f-41d9-cb4e-8d8fafbcedd4"
   },
   "outputs": [
    {
     "name": "stdout",
     "output_type": "stream",
     "text": [
      "['norm', 'situation', 'intention', 'moral_action', 'moral_consequence', 'immoral_action', 'immoral_consequence']\n"
     ]
    }
   ],
   "source": [
    "dataset = load_dataset(\"demelin/moral_stories\",'full')\n",
    "df = pd.DataFrame(dataset[\"train\"])\n",
    "string_cols=[col for col, dtype in df.dtypes.items() if dtype == 'O'][1:]\n",
    "print(string_cols)\n",
    "df['concatenated_sentences'] = df[string_cols].apply(lambda row: '\\n'.join(row), axis=1)\n",
    "# shape of full MoralStories dataset==12k\n",
    "assert df.shape[0]==12000"
   ]
  },
  {
   "cell_type": "markdown",
   "id": "Bq3aAmCICnek",
   "metadata": {
    "id": "Bq3aAmCICnek"
   },
   "source": [
    "# OpenAI Client Initialization: Put key here"
   ]
  },
  {
   "cell_type": "markdown",
   "id": "wRrkzQQ2PDxB",
   "metadata": {
    "id": "wRrkzQQ2PDxB"
   },
   "source": [
    "Key to be copied from: https://platform.openai.com/api-keys\n",
    "Go to the link above, click \"Add new secret key\".\n",
    "Note that previously generated keys cannot be copied."
   ]
  },
  {
   "cell_type": "code",
   "execution_count": 4,
   "id": "6511e30d",
   "metadata": {
    "id": "6511e30d"
   },
   "outputs": [],
   "source": [
    "key= \"KEY\"\n",
    "client = OpenAI(api_key=key)"
   ]
  },
  {
   "cell_type": "markdown",
   "id": "qtSh_L8H-xOk",
   "metadata": {
    "id": "qtSh_L8H-xOk"
   },
   "source": [
    "# Prompting with demonstrations"
   ]
  },
  {
   "cell_type": "markdown",
   "id": "Wwee4WY3-wSd",
   "metadata": {
    "id": "Wwee4WY3-wSd"
   },
   "source": [
    "We embed demonstrations in the prompt to enhance translation quality.  \n",
    "The demonstrations have the structure as in the following example:\n",
    "```\n",
    "S : Mike wants to run errands and pick up food items\n",
    "for dinner.\n",
    "T : Michel souhaite faire des courses et ramasser des den-\n",
    "rées alimentaires pour le dîner.\n",
    "H : The translation of ‘pick up’ into ‘ramasser’ is too literal.\n",
    "A more fitting translation for the context is ‘acheter’.\n",
    "```\n",
    "\n",
    "We use the following prompt for translation ( dubbed as **prompt 3** in the paper):\n",
    "\n",
    "```\n",
    "In this demonstration-based learning task, we will provide examples for translating moral stories from English to French. \n",
    "The demonstrations will follow this structure: S + T + H, where the latter are comments indicating which aspect was wrongly translated with suggested corrections. **Concatenated demonstrations**. \n",
    "Now, your task is: \n",
    "Translate the following sentences into French and adapt them to the French cultural context. Note: Names must be converted into French equivalents. \n",
    "Important: First names, geographical locations, and other named entities must be converted to French equivalents, and their translations should be consistent throughout the story.```"
   ]
  },
  {
   "cell_type": "code",
   "execution_count": 5,
   "id": "JkWE1MCs3XLV",
   "metadata": {
    "colab": {
     "base_uri": "https://localhost:8080/",
     "height": 251
    },
    "id": "JkWE1MCs3XLV",
    "outputId": "817b1c09-13e3-477b-f4e1-a553c6fc01e1"
   },
   "outputs": [],
   "source": [
    "df_annotations=pd.read_feather(\"./annotated_data/annotations_01_rationales.feather\")\n",
    "assert df_annotations.shape[0]==15 # We use 15 demonstrations in our task"
   ]
  },
  {
   "cell_type": "code",
   "execution_count": 6,
   "id": "c37875c9",
   "metadata": {
    "colab": {
     "base_uri": "https://localhost:8080/",
     "height": 72
    },
    "id": "c37875c9",
    "outputId": "3a695286-032b-42a1-baaf-a48677f7c778"
   },
   "outputs": [],
   "source": [
    "preprompt_demo = \"\"\"\n",
    "In this demonstration-based learning task, we will provide examples for translating moral stories from English to French. \n",
    "The demonstrations will follow this structure: S + T + H, where the latter are comments indicating which aspect was wrongly translated with suggested corrections.\n",
    "\"\"\"\n",
    "demo_list = []\n",
    "for row_ind, row in df_annotations.iterrows():\n",
    "    source = row['original']\n",
    "    t1 = row['translations']\n",
    "    rationales=row['rationales']\n",
    "    demo_list.append((row_ind, {\"source\": source, \"t1\": t1, \"rationale\": rationales}))\n",
    "int_=0\n",
    "sorted_demo_dict=dict()\n",
    "for key, value in demo_list:\n",
    "    sorted_demo_dict[int_] = value\n",
    "    int_+=1 \n",
    "for demo_key, demo_value in list(sorted_demo_dict.items()):\n",
    "    preprompt_demo += f\"\\n\\nDemo {demo_key}:\\n\"\n",
    "    preprompt_demo += f\"(S): {demo_value['source']}\\n\"\n",
    "    preprompt_demo += f\"(T1): {demo_value['t1']}\\n\"\n",
    "    preprompt_demo += f\"(Rationale): {demo_value['rationale']}\\n\"\n",
    "assert len(preprompt_demo)==19576 # \\# of characters in the concated demonstrations"
   ]
  },
  {
   "cell_type": "code",
   "execution_count": 7,
   "id": "273a0a5f",
   "metadata": {
    "colab": {
     "base_uri": "https://localhost:8080/"
    },
    "id": "273a0a5f",
    "outputId": "e48301ca-499f-463f-e74e-b32dfd7e2f87"
   },
   "outputs": [],
   "source": [
    "encoding = tiktoken.encoding_for_model('gpt-3.5-turbo')\n",
    "def num_tokens_from_string(string: str, encoding_name: str) -> int:\n",
    "    \"\"\"Returns the number of tokens in a text string.\"\"\"\n",
    "    encoding = tiktoken.get_encoding(encoding_name)\n",
    "    num_tokens = len(encoding.encode(string))\n",
    "    return num_tokens\n",
    "# n tokens for our prompt should not exceed max.context of translation model\n",
    "assert num_tokens_from_string(preprompt_demo, \"cl100k_base\")==4729\n",
    "preprompt_demo+= \"Now, your task is: \"\n",
    "# Get the final prompt (P3)\n",
    "preprompt = \"\"\"Translate the following sentences into French and adapt them to the French cultural context. Note: Names must be converted into French equivalents. \n",
    "Important: First names, geographical locations, and other named entities must be converted to French equivalents, and their translations should be consistent throughout the story.\"\"\""
   ]
  },
  {
   "cell_type": "code",
   "execution_count": 8,
   "id": "0ae2bd67-2fc9-4421-b7e2-3d7ae4563201",
   "metadata": {},
   "outputs": [
    {
     "name": "stdout",
     "output_type": "stream",
     "text": [
      "Removed already processed entries from df. The previous and current df shapes:\n",
      "(12000, 10)\n",
      "(11998, 10)\n"
     ]
    }
   ],
   "source": [
    "# Remove already translated data from the queue\n",
    "directory = 'morales_data'\n",
    "os.makedirs(directory, exist_ok=True)\n",
    "next_index = 0\n",
    "if os.listdir(directory):\n",
    "    dfs_i = []\n",
    "    for filename in os.listdir(directory):\n",
    "        if filename.endswith('.feather'):  # Assuming all files are in Feather format\n",
    "            filepath = os.path.join(directory, filename)\n",
    "            df_i = pd.read_feather(filepath)\n",
    "            dfs_i.append(df_i)\n",
    "    if dfs_i:\n",
    "        combined_df = pd.concat(dfs_i, ignore_index=True)\n",
    "        if combined_df.shape[0]:\n",
    "            id_processed = set(combined_df['ID'].tolist())\n",
    "            shape_0=df.shape\n",
    "            df = df[~df['ID'].isin(id_processed)]\n",
    "            print(\"Removed already processed entries from df. The previous and current df shapes:\", )\n",
    "            print(shape_0)\n",
    "            print(df.shape)\n",
    "            while os.path.exists(os.path.join(directory, f'data_{next_index}.feather')):\n",
    "                next_index += 1\n",
    "    else:\n",
    "        print(\"No Feather files found in the directory.\")\n",
    "else:\n",
    "    print(\"Directory is empty.\")"
   ]
  },
  {
   "cell_type": "markdown",
   "id": "6b341ee2",
   "metadata": {},
   "source": [
    "Note that we use the default temperature parameter equal to 1. "
   ]
  },
  {
   "cell_type": "code",
   "execution_count": 9,
   "id": "a23442a0-2d9e-4e15-9dd2-0508d990d90c",
   "metadata": {},
   "outputs": [
    {
     "name": "stderr",
     "output_type": "stream",
     "text": [
      "  0%|                                                                                        | 0/11998 [00:09<?, ?it/s]"
     ]
    },
    {
     "name": "stdout",
     "output_type": "stream",
     "text": [
      "CPU times: total: 31.2 ms\n",
      "Wall time: 9.19 s\n"
     ]
    },
    {
     "name": "stderr",
     "output_type": "stream",
     "text": [
      "\n"
     ]
    }
   ],
   "source": [
    "%%time\n",
    "system_prompt=\"\"\"\n",
    "You are a translation model that translates messages for a morality alignment research project.\n",
    "\"\"\"\n",
    "output_directory = directory[:]\n",
    "processed_count = 0\n",
    "data_rows=[]\n",
    "for index, row in tqdm(df.iterrows(), total=len(df)):\n",
    "    request_i = preprompt_demo + preprompt + '\\nStory:\\n' + row['concatenated_sentences']\n",
    "    completion = client.chat.completions.create(\n",
    "        model=\"gpt-3.5-turbo-16k\",\n",
    "        messages=[{\"role\": \"user\", \"content\": request_i, \"system\":system_prompt}],\n",
    "        temperature=1\n",
    "    )\n",
    "    translation = completion.choices[0].message.content\n",
    "    data_row = {\n",
    "        \"ID\": row['ID'],\n",
    "        \"model\": \"gpt-3.5-turbo-16k\",\n",
    "        \"prompt_body\": row['concatenated_sentences'],\n",
    "        \"temp_default\": translation\n",
    "    }\n",
    "    data_rows.append(data_row)\n",
    "    \n",
    "    processed_count += 1\n",
    "    if processed_count % 5 == 0:\n",
    "        next_index += 1\n",
    "        data_init2 = pd.DataFrame(data_rows)\n",
    "        output_filepath = os.path.join(output_directory, f'data_{next_index}.feather')\n",
    "        data_init2.to_feather(output_filepath)\n",
    "        data_init2 = None\n",
    "        data_rows=[]\n",
    "    else: \n",
    "        sleep(0.3)\n",
    "    break"
   ]
  },
  {
   "cell_type": "code",
   "execution_count": 10,
   "id": "3e60c793-9dc0-46dc-ae31-d402dc700e01",
   "metadata": {},
   "outputs": [],
   "source": [
    "if data_rows:\n",
    "    next_index += 1\n",
    "    output_filepath = os.path.join(output_directory, f'data_{next_index}.feather')\n",
    "    data_init2 = pd.DataFrame(data_rows)\n",
    "    data_init2.to_feather(output_filepath)"
   ]
  },
  {
   "cell_type": "code",
   "execution_count": null,
   "id": "ed89c62e-f698-4a2e-bb9e-a4fa6a4b2b4c",
   "metadata": {},
   "outputs": [],
   "source": [
    "df_new = pd.DataFrame(data_init2)\n",
    "df_new.head(1)\n",
    "# df_new.to_feather('test.feather')"
   ]
  },
  {
   "cell_type": "markdown",
   "id": "876a6e6b",
   "metadata": {},
   "source": [
    "The running time for translating all the stories is about 10 hours. Full cost for translating the data including the data for annotations is 200 \\$.\n",
    "We estimate the quality of the obtained data in the `data-quality-*` notebooks.\n",
    "In the section `Temperature Search` of the paper, we elaborate on the impact of temperature. However, we use the default one and it allowed us to obtain good translations estimated with CometKIWI metric."
   ]
  }
 ],
 "metadata": {
  "colab": {
   "provenance": [],
   "toc_visible": true
  },
  "kernelspec": {
   "display_name": "Python 3 (ipykernel)",
   "language": "python",
   "name": "python3"
  },
  "language_info": {
   "codemirror_mode": {
    "name": "ipython",
    "version": 3
   },
   "file_extension": ".py",
   "mimetype": "text/x-python",
   "name": "python",
   "nbconvert_exporter": "python",
   "pygments_lexer": "ipython3",
   "version": "3.9.7"
  },
  "widgets": {
   "application/vnd.jupyter.widget-state+json": {
    "0157849bba7c4b028fc0cab939edd013": {
     "model_module": "@jupyter-widgets/controls",
     "model_module_version": "1.5.0",
     "model_name": "HTMLModel",
     "state": {
      "_dom_classes": [],
      "_model_module": "@jupyter-widgets/controls",
      "_model_module_version": "1.5.0",
      "_model_name": "HTMLModel",
      "_view_count": null,
      "_view_module": "@jupyter-widgets/controls",
      "_view_module_version": "1.5.0",
      "_view_name": "HTMLView",
      "description": "",
      "description_tooltip": null,
      "layout": "IPY_MODEL_7512987d129048f699347fd8bec4d0c2",
      "placeholder": "​",
      "style": "IPY_MODEL_85da4f66789747199d0996bf475cd370",
      "value": "Generating train split: 100%"
     }
    },
    "225d29f5aff74da5a7e582865439468b": {
     "model_module": "@jupyter-widgets/base",
     "model_module_version": "1.2.0",
     "model_name": "LayoutModel",
     "state": {
      "_model_module": "@jupyter-widgets/base",
      "_model_module_version": "1.2.0",
      "_model_name": "LayoutModel",
      "_view_count": null,
      "_view_module": "@jupyter-widgets/base",
      "_view_module_version": "1.2.0",
      "_view_name": "LayoutView",
      "align_content": null,
      "align_items": null,
      "align_self": null,
      "border": null,
      "bottom": null,
      "display": null,
      "flex": null,
      "flex_flow": null,
      "grid_area": null,
      "grid_auto_columns": null,
      "grid_auto_flow": null,
      "grid_auto_rows": null,
      "grid_column": null,
      "grid_gap": null,
      "grid_row": null,
      "grid_template_areas": null,
      "grid_template_columns": null,
      "grid_template_rows": null,
      "height": null,
      "justify_content": null,
      "justify_items": null,
      "left": null,
      "margin": null,
      "max_height": null,
      "max_width": null,
      "min_height": null,
      "min_width": null,
      "object_fit": null,
      "object_position": null,
      "order": null,
      "overflow": null,
      "overflow_x": null,
      "overflow_y": null,
      "padding": null,
      "right": null,
      "top": null,
      "visibility": null,
      "width": null
     }
    },
    "23a9268b3dbf4972b4ff8e56c1c6474f": {
     "model_module": "@jupyter-widgets/controls",
     "model_module_version": "1.5.0",
     "model_name": "DescriptionStyleModel",
     "state": {
      "_model_module": "@jupyter-widgets/controls",
      "_model_module_version": "1.5.0",
      "_model_name": "DescriptionStyleModel",
      "_view_count": null,
      "_view_module": "@jupyter-widgets/base",
      "_view_module_version": "1.2.0",
      "_view_name": "StyleView",
      "description_width": ""
     }
    },
    "2acb0255768c43cfba1c623b1d78c479": {
     "model_module": "@jupyter-widgets/controls",
     "model_module_version": "1.5.0",
     "model_name": "HTMLModel",
     "state": {
      "_dom_classes": [],
      "_model_module": "@jupyter-widgets/controls",
      "_model_module_version": "1.5.0",
      "_model_name": "HTMLModel",
      "_view_count": null,
      "_view_module": "@jupyter-widgets/controls",
      "_view_module_version": "1.5.0",
      "_view_name": "HTMLView",
      "description": "",
      "description_tooltip": null,
      "layout": "IPY_MODEL_225d29f5aff74da5a7e582865439468b",
      "placeholder": "​",
      "style": "IPY_MODEL_591c5f79a8d643ae9f5379f00651cd35",
      "value": "Downloading data: 100%"
     }
    },
    "317164e1e49a4db2b121daf19b1cd892": {
     "model_module": "@jupyter-widgets/base",
     "model_module_version": "1.2.0",
     "model_name": "LayoutModel",
     "state": {
      "_model_module": "@jupyter-widgets/base",
      "_model_module_version": "1.2.0",
      "_model_name": "LayoutModel",
      "_view_count": null,
      "_view_module": "@jupyter-widgets/base",
      "_view_module_version": "1.2.0",
      "_view_name": "LayoutView",
      "align_content": null,
      "align_items": null,
      "align_self": null,
      "border": null,
      "bottom": null,
      "display": null,
      "flex": null,
      "flex_flow": null,
      "grid_area": null,
      "grid_auto_columns": null,
      "grid_auto_flow": null,
      "grid_auto_rows": null,
      "grid_column": null,
      "grid_gap": null,
      "grid_row": null,
      "grid_template_areas": null,
      "grid_template_columns": null,
      "grid_template_rows": null,
      "height": null,
      "justify_content": null,
      "justify_items": null,
      "left": null,
      "margin": null,
      "max_height": null,
      "max_width": null,
      "min_height": null,
      "min_width": null,
      "object_fit": null,
      "object_position": null,
      "order": null,
      "overflow": null,
      "overflow_x": null,
      "overflow_y": null,
      "padding": null,
      "right": null,
      "top": null,
      "visibility": null,
      "width": null
     }
    },
    "338c387090bf400d9257ad31c23327cf": {
     "model_module": "@jupyter-widgets/base",
     "model_module_version": "1.2.0",
     "model_name": "LayoutModel",
     "state": {
      "_model_module": "@jupyter-widgets/base",
      "_model_module_version": "1.2.0",
      "_model_name": "LayoutModel",
      "_view_count": null,
      "_view_module": "@jupyter-widgets/base",
      "_view_module_version": "1.2.0",
      "_view_name": "LayoutView",
      "align_content": null,
      "align_items": null,
      "align_self": null,
      "border": null,
      "bottom": null,
      "display": null,
      "flex": null,
      "flex_flow": null,
      "grid_area": null,
      "grid_auto_columns": null,
      "grid_auto_flow": null,
      "grid_auto_rows": null,
      "grid_column": null,
      "grid_gap": null,
      "grid_row": null,
      "grid_template_areas": null,
      "grid_template_columns": null,
      "grid_template_rows": null,
      "height": null,
      "justify_content": null,
      "justify_items": null,
      "left": null,
      "margin": null,
      "max_height": null,
      "max_width": null,
      "min_height": null,
      "min_width": null,
      "object_fit": null,
      "object_position": null,
      "order": null,
      "overflow": null,
      "overflow_x": null,
      "overflow_y": null,
      "padding": null,
      "right": null,
      "top": null,
      "visibility": null,
      "width": null
     }
    },
    "3e9bed053c334da883c74efa2d0bac7d": {
     "model_module": "@jupyter-widgets/controls",
     "model_module_version": "1.5.0",
     "model_name": "HTMLModel",
     "state": {
      "_dom_classes": [],
      "_model_module": "@jupyter-widgets/controls",
      "_model_module_version": "1.5.0",
      "_model_name": "HTMLModel",
      "_view_count": null,
      "_view_module": "@jupyter-widgets/controls",
      "_view_module_version": "1.5.0",
      "_view_name": "HTMLView",
      "description": "",
      "description_tooltip": null,
      "layout": "IPY_MODEL_338c387090bf400d9257ad31c23327cf",
      "placeholder": "​",
      "style": "IPY_MODEL_f88bc87d14154d0bbc5ecef10d9cc527",
      "value": " 12000/12000 [00:00&lt;00:00, 72062.69 examples/s]"
     }
    },
    "591c5f79a8d643ae9f5379f00651cd35": {
     "model_module": "@jupyter-widgets/controls",
     "model_module_version": "1.5.0",
     "model_name": "DescriptionStyleModel",
     "state": {
      "_model_module": "@jupyter-widgets/controls",
      "_model_module_version": "1.5.0",
      "_model_name": "DescriptionStyleModel",
      "_view_count": null,
      "_view_module": "@jupyter-widgets/base",
      "_view_module_version": "1.2.0",
      "_view_name": "StyleView",
      "description_width": ""
     }
    },
    "5c953092dad5452c87c42d1d754e6871": {
     "model_module": "@jupyter-widgets/base",
     "model_module_version": "1.2.0",
     "model_name": "LayoutModel",
     "state": {
      "_model_module": "@jupyter-widgets/base",
      "_model_module_version": "1.2.0",
      "_model_name": "LayoutModel",
      "_view_count": null,
      "_view_module": "@jupyter-widgets/base",
      "_view_module_version": "1.2.0",
      "_view_name": "LayoutView",
      "align_content": null,
      "align_items": null,
      "align_self": null,
      "border": null,
      "bottom": null,
      "display": null,
      "flex": null,
      "flex_flow": null,
      "grid_area": null,
      "grid_auto_columns": null,
      "grid_auto_flow": null,
      "grid_auto_rows": null,
      "grid_column": null,
      "grid_gap": null,
      "grid_row": null,
      "grid_template_areas": null,
      "grid_template_columns": null,
      "grid_template_rows": null,
      "height": null,
      "justify_content": null,
      "justify_items": null,
      "left": null,
      "margin": null,
      "max_height": null,
      "max_width": null,
      "min_height": null,
      "min_width": null,
      "object_fit": null,
      "object_position": null,
      "order": null,
      "overflow": null,
      "overflow_x": null,
      "overflow_y": null,
      "padding": null,
      "right": null,
      "top": null,
      "visibility": null,
      "width": null
     }
    },
    "7512987d129048f699347fd8bec4d0c2": {
     "model_module": "@jupyter-widgets/base",
     "model_module_version": "1.2.0",
     "model_name": "LayoutModel",
     "state": {
      "_model_module": "@jupyter-widgets/base",
      "_model_module_version": "1.2.0",
      "_model_name": "LayoutModel",
      "_view_count": null,
      "_view_module": "@jupyter-widgets/base",
      "_view_module_version": "1.2.0",
      "_view_name": "LayoutView",
      "align_content": null,
      "align_items": null,
      "align_self": null,
      "border": null,
      "bottom": null,
      "display": null,
      "flex": null,
      "flex_flow": null,
      "grid_area": null,
      "grid_auto_columns": null,
      "grid_auto_flow": null,
      "grid_auto_rows": null,
      "grid_column": null,
      "grid_gap": null,
      "grid_row": null,
      "grid_template_areas": null,
      "grid_template_columns": null,
      "grid_template_rows": null,
      "height": null,
      "justify_content": null,
      "justify_items": null,
      "left": null,
      "margin": null,
      "max_height": null,
      "max_width": null,
      "min_height": null,
      "min_width": null,
      "object_fit": null,
      "object_position": null,
      "order": null,
      "overflow": null,
      "overflow_x": null,
      "overflow_y": null,
      "padding": null,
      "right": null,
      "top": null,
      "visibility": null,
      "width": null
     }
    },
    "77c362df5090456f95aa01fe2fb7e5e7": {
     "model_module": "@jupyter-widgets/controls",
     "model_module_version": "1.5.0",
     "model_name": "HBoxModel",
     "state": {
      "_dom_classes": [],
      "_model_module": "@jupyter-widgets/controls",
      "_model_module_version": "1.5.0",
      "_model_name": "HBoxModel",
      "_view_count": null,
      "_view_module": "@jupyter-widgets/controls",
      "_view_module_version": "1.5.0",
      "_view_name": "HBoxView",
      "box_style": "",
      "children": [
       "IPY_MODEL_2acb0255768c43cfba1c623b1d78c479",
       "IPY_MODEL_a3a9a5c7729c49f3b61ac50afe8a39aa",
       "IPY_MODEL_f7d5f930322e42299dc85674622cd3a0"
      ],
      "layout": "IPY_MODEL_e153a96ed4c14a1ca6733e3d34530ad9"
     }
    },
    "85da4f66789747199d0996bf475cd370": {
     "model_module": "@jupyter-widgets/controls",
     "model_module_version": "1.5.0",
     "model_name": "DescriptionStyleModel",
     "state": {
      "_model_module": "@jupyter-widgets/controls",
      "_model_module_version": "1.5.0",
      "_model_name": "DescriptionStyleModel",
      "_view_count": null,
      "_view_module": "@jupyter-widgets/base",
      "_view_module_version": "1.2.0",
      "_view_name": "StyleView",
      "description_width": ""
     }
    },
    "9078020b38b8439190dcaf7ea3d3e1e8": {
     "model_module": "@jupyter-widgets/controls",
     "model_module_version": "1.5.0",
     "model_name": "HBoxModel",
     "state": {
      "_dom_classes": [],
      "_model_module": "@jupyter-widgets/controls",
      "_model_module_version": "1.5.0",
      "_model_name": "HBoxModel",
      "_view_count": null,
      "_view_module": "@jupyter-widgets/controls",
      "_view_module_version": "1.5.0",
      "_view_name": "HBoxView",
      "box_style": "",
      "children": [
       "IPY_MODEL_0157849bba7c4b028fc0cab939edd013",
       "IPY_MODEL_96ae87b513f740d6a5e68edfab6ff248",
       "IPY_MODEL_3e9bed053c334da883c74efa2d0bac7d"
      ],
      "layout": "IPY_MODEL_ca9f3d27412048e089ff5b3a6d69641e"
     }
    },
    "96ae87b513f740d6a5e68edfab6ff248": {
     "model_module": "@jupyter-widgets/controls",
     "model_module_version": "1.5.0",
     "model_name": "FloatProgressModel",
     "state": {
      "_dom_classes": [],
      "_model_module": "@jupyter-widgets/controls",
      "_model_module_version": "1.5.0",
      "_model_name": "FloatProgressModel",
      "_view_count": null,
      "_view_module": "@jupyter-widgets/controls",
      "_view_module_version": "1.5.0",
      "_view_name": "ProgressView",
      "bar_style": "success",
      "description": "",
      "description_tooltip": null,
      "layout": "IPY_MODEL_5c953092dad5452c87c42d1d754e6871",
      "max": 12000,
      "min": 0,
      "orientation": "horizontal",
      "style": "IPY_MODEL_ce609a640b6f4012bc9766f14b74b635",
      "value": 12000
     }
    },
    "a1a4dc61371b4eeebfc61e071e7c778b": {
     "model_module": "@jupyter-widgets/controls",
     "model_module_version": "1.5.0",
     "model_name": "ProgressStyleModel",
     "state": {
      "_model_module": "@jupyter-widgets/controls",
      "_model_module_version": "1.5.0",
      "_model_name": "ProgressStyleModel",
      "_view_count": null,
      "_view_module": "@jupyter-widgets/base",
      "_view_module_version": "1.2.0",
      "_view_name": "StyleView",
      "bar_color": null,
      "description_width": ""
     }
    },
    "a20e6cca1fdc465b9d2430ab836695be": {
     "model_module": "@jupyter-widgets/base",
     "model_module_version": "1.2.0",
     "model_name": "LayoutModel",
     "state": {
      "_model_module": "@jupyter-widgets/base",
      "_model_module_version": "1.2.0",
      "_model_name": "LayoutModel",
      "_view_count": null,
      "_view_module": "@jupyter-widgets/base",
      "_view_module_version": "1.2.0",
      "_view_name": "LayoutView",
      "align_content": null,
      "align_items": null,
      "align_self": null,
      "border": null,
      "bottom": null,
      "display": null,
      "flex": null,
      "flex_flow": null,
      "grid_area": null,
      "grid_auto_columns": null,
      "grid_auto_flow": null,
      "grid_auto_rows": null,
      "grid_column": null,
      "grid_gap": null,
      "grid_row": null,
      "grid_template_areas": null,
      "grid_template_columns": null,
      "grid_template_rows": null,
      "height": null,
      "justify_content": null,
      "justify_items": null,
      "left": null,
      "margin": null,
      "max_height": null,
      "max_width": null,
      "min_height": null,
      "min_width": null,
      "object_fit": null,
      "object_position": null,
      "order": null,
      "overflow": null,
      "overflow_x": null,
      "overflow_y": null,
      "padding": null,
      "right": null,
      "top": null,
      "visibility": null,
      "width": null
     }
    },
    "a3a9a5c7729c49f3b61ac50afe8a39aa": {
     "model_module": "@jupyter-widgets/controls",
     "model_module_version": "1.5.0",
     "model_name": "FloatProgressModel",
     "state": {
      "_dom_classes": [],
      "_model_module": "@jupyter-widgets/controls",
      "_model_module_version": "1.5.0",
      "_model_name": "FloatProgressModel",
      "_view_count": null,
      "_view_module": "@jupyter-widgets/controls",
      "_view_module_version": "1.5.0",
      "_view_name": "ProgressView",
      "bar_style": "success",
      "description": "",
      "description_tooltip": null,
      "layout": "IPY_MODEL_317164e1e49a4db2b121daf19b1cd892",
      "max": 4195701,
      "min": 0,
      "orientation": "horizontal",
      "style": "IPY_MODEL_a1a4dc61371b4eeebfc61e071e7c778b",
      "value": 4195701
     }
    },
    "ca9f3d27412048e089ff5b3a6d69641e": {
     "model_module": "@jupyter-widgets/base",
     "model_module_version": "1.2.0",
     "model_name": "LayoutModel",
     "state": {
      "_model_module": "@jupyter-widgets/base",
      "_model_module_version": "1.2.0",
      "_model_name": "LayoutModel",
      "_view_count": null,
      "_view_module": "@jupyter-widgets/base",
      "_view_module_version": "1.2.0",
      "_view_name": "LayoutView",
      "align_content": null,
      "align_items": null,
      "align_self": null,
      "border": null,
      "bottom": null,
      "display": null,
      "flex": null,
      "flex_flow": null,
      "grid_area": null,
      "grid_auto_columns": null,
      "grid_auto_flow": null,
      "grid_auto_rows": null,
      "grid_column": null,
      "grid_gap": null,
      "grid_row": null,
      "grid_template_areas": null,
      "grid_template_columns": null,
      "grid_template_rows": null,
      "height": null,
      "justify_content": null,
      "justify_items": null,
      "left": null,
      "margin": null,
      "max_height": null,
      "max_width": null,
      "min_height": null,
      "min_width": null,
      "object_fit": null,
      "object_position": null,
      "order": null,
      "overflow": null,
      "overflow_x": null,
      "overflow_y": null,
      "padding": null,
      "right": null,
      "top": null,
      "visibility": null,
      "width": null
     }
    },
    "ce609a640b6f4012bc9766f14b74b635": {
     "model_module": "@jupyter-widgets/controls",
     "model_module_version": "1.5.0",
     "model_name": "ProgressStyleModel",
     "state": {
      "_model_module": "@jupyter-widgets/controls",
      "_model_module_version": "1.5.0",
      "_model_name": "ProgressStyleModel",
      "_view_count": null,
      "_view_module": "@jupyter-widgets/base",
      "_view_module_version": "1.2.0",
      "_view_name": "StyleView",
      "bar_color": null,
      "description_width": ""
     }
    },
    "e153a96ed4c14a1ca6733e3d34530ad9": {
     "model_module": "@jupyter-widgets/base",
     "model_module_version": "1.2.0",
     "model_name": "LayoutModel",
     "state": {
      "_model_module": "@jupyter-widgets/base",
      "_model_module_version": "1.2.0",
      "_model_name": "LayoutModel",
      "_view_count": null,
      "_view_module": "@jupyter-widgets/base",
      "_view_module_version": "1.2.0",
      "_view_name": "LayoutView",
      "align_content": null,
      "align_items": null,
      "align_self": null,
      "border": null,
      "bottom": null,
      "display": null,
      "flex": null,
      "flex_flow": null,
      "grid_area": null,
      "grid_auto_columns": null,
      "grid_auto_flow": null,
      "grid_auto_rows": null,
      "grid_column": null,
      "grid_gap": null,
      "grid_row": null,
      "grid_template_areas": null,
      "grid_template_columns": null,
      "grid_template_rows": null,
      "height": null,
      "justify_content": null,
      "justify_items": null,
      "left": null,
      "margin": null,
      "max_height": null,
      "max_width": null,
      "min_height": null,
      "min_width": null,
      "object_fit": null,
      "object_position": null,
      "order": null,
      "overflow": null,
      "overflow_x": null,
      "overflow_y": null,
      "padding": null,
      "right": null,
      "top": null,
      "visibility": null,
      "width": null
     }
    },
    "f7d5f930322e42299dc85674622cd3a0": {
     "model_module": "@jupyter-widgets/controls",
     "model_module_version": "1.5.0",
     "model_name": "HTMLModel",
     "state": {
      "_dom_classes": [],
      "_model_module": "@jupyter-widgets/controls",
      "_model_module_version": "1.5.0",
      "_model_name": "HTMLModel",
      "_view_count": null,
      "_view_module": "@jupyter-widgets/controls",
      "_view_module_version": "1.5.0",
      "_view_name": "HTMLView",
      "description": "",
      "description_tooltip": null,
      "layout": "IPY_MODEL_a20e6cca1fdc465b9d2430ab836695be",
      "placeholder": "​",
      "style": "IPY_MODEL_23a9268b3dbf4972b4ff8e56c1c6474f",
      "value": " 4.20M/4.20M [00:00&lt;00:00, 7.37MB/s]"
     }
    },
    "f88bc87d14154d0bbc5ecef10d9cc527": {
     "model_module": "@jupyter-widgets/controls",
     "model_module_version": "1.5.0",
     "model_name": "DescriptionStyleModel",
     "state": {
      "_model_module": "@jupyter-widgets/controls",
      "_model_module_version": "1.5.0",
      "_model_name": "DescriptionStyleModel",
      "_view_count": null,
      "_view_module": "@jupyter-widgets/base",
      "_view_module_version": "1.2.0",
      "_view_name": "StyleView",
      "description_width": ""
     }
    }
   }
  }
 },
 "nbformat": 4,
 "nbformat_minor": 5
}
