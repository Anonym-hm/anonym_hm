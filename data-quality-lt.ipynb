{
 "cells": [
  {
   "cell_type": "markdown",
   "metadata": {
    "id": "TUq25hXdf5of"
   },
   "source": [
    "# Grammatical Acceptability\n",
    "\n",
    "In this notebook, we evaluate the grammaticality of translations using LanguageTool model: https://languagetool.org/fr.\n",
    "We descibe the procedure in Section 4 of the paper. LanguageTool is open-source grammar tool that is rule-based error corrector, the corpus of rules for French language can be found here: https://community.languagetool.org/rule/list?lang=fr.\n",
    "\n",
    "Note that below, we install the latest  version of language tool, but installation also requires Java 8.0 or higher. Here you can find detailed instructions for installation: https://github.com/jxmorris12/language_tool_python?tab=readme-ov-file#prerequisites.   \n",
    "`pip install --upgrade language_tool_python` should take care of downloading LanguageTool.  \n",
    "\n",
    "\n",
    "Running this notebook takes around 12h and does not require GPU.\n",
    "This runtime is due to the large number of rules present in the corpus od LanguageTool."
   ]
  },
  {
   "cell_type": "code",
   "execution_count": null,
   "metadata": {
    "colab": {
     "base_uri": "https://localhost:8080/"
    },
    "id": "xrfImNBON6yA",
    "outputId": "070b6d6e-ee0c-4995-a0b4-3be2b547ed94"
   },
   "outputs": [
    {
     "name": "stdout",
     "output_type": "stream",
     "text": [
      "Collecting language_tool_python\n",
      "  Downloading language_tool_python-2.8-py3-none-any.whl (35 kB)\n",
      "Requirement already satisfied: pip in /usr/local/lib/python3.10/dist-packages (from language_tool_python) (23.1.2)\n",
      "Requirement already satisfied: requests in /usr/local/lib/python3.10/dist-packages (from language_tool_python) (2.31.0)\n",
      "Requirement already satisfied: tqdm in /usr/local/lib/python3.10/dist-packages (from language_tool_python) (4.66.2)\n",
      "Requirement already satisfied: wheel in /usr/local/lib/python3.10/dist-packages (from language_tool_python) (0.43.0)\n",
      "Requirement already satisfied: charset-normalizer<4,>=2 in /usr/local/lib/python3.10/dist-packages (from requests->language_tool_python) (3.3.2)\n",
      "Requirement already satisfied: idna<4,>=2.5 in /usr/local/lib/python3.10/dist-packages (from requests->language_tool_python) (3.7)\n",
      "Requirement already satisfied: urllib3<3,>=1.21.1 in /usr/local/lib/python3.10/dist-packages (from requests->language_tool_python) (2.0.7)\n",
      "Requirement already satisfied: certifi>=2017.4.17 in /usr/local/lib/python3.10/dist-packages (from requests->language_tool_python) (2024.2.2)\n",
      "Installing collected packages: language_tool_python\n",
      "Successfully installed language_tool_python-2.8\n"
     ]
    }
   ],
   "source": [
    "!pip install --upgrade language_tool_python"
   ]
  },
  {
   "cell_type": "code",
   "execution_count": null,
   "metadata": {
    "colab": {
     "base_uri": "https://localhost:8080/"
    },
    "id": "wDE_Ffh6N74E",
    "outputId": "c78e6f04-098c-4295-c49c-8b7ad5e8ae1c"
   },
   "outputs": [
    {
     "name": "stderr",
     "output_type": "stream",
     "text": [
      "Downloading LanguageTool 6.4: 100%|██████████| 246M/246M [00:10<00:00, 23.6MB/s]\n",
      "INFO:language_tool_python.download_lt:Unzipping /tmp/tmp44a6w0m1.zip to /root/.cache/language_tool_python.\n",
      "INFO:language_tool_python.download_lt:Downloaded https://www.languagetool.org/download/LanguageTool-6.4.zip to /root/.cache/language_tool_python.\n"
     ]
    }
   ],
   "source": [
    "import language_tool_python\n",
    "tool = language_tool_python.LanguageTool('en-US', config={ 'maxTextLength': 100 })"
   ]
  },
  {
   "cell_type": "markdown",
   "metadata": {},
   "source": [
    "We do not exclude any rules for French and run checker on all the rules for French."
   ]
  },
  {
   "cell_type": "code",
   "execution_count": null,
   "metadata": {
    "id": "viLWCPS9RfYF"
   },
   "outputs": [],
   "source": [
    "import json\n",
    "import pandas as pd\n",
    "from tqdm import tqdm\n",
    "import time\n",
    "jsonl_file_path = \"data_fr/moral_stories_full.jsonl\"\n",
    "json_data = []\n",
    "with open(jsonl_file_path, 'r') as file:\n",
    "    for line in file:\n",
    "        json_data.append(json.loads(line))"
   ]
  },
  {
   "cell_type": "code",
   "execution_count": null,
   "metadata": {
    "id": "tLYkdPWLUlBi"
   },
   "outputs": [],
   "source": [
    "final_df = pd.DataFrame(json_data)\n",
    "if tool:\n",
    "    tool.close()"
   ]
  },
  {
   "cell_type": "code",
   "execution_count": null,
   "metadata": {
    "id": "rPcb7jMsRoz2"
   },
   "outputs": [],
   "source": [
    "tool = language_tool_python.LanguageToolPublicAPI('fr-FR')"
   ]
  },
  {
   "cell_type": "code",
   "execution_count": null,
   "metadata": {
    "colab": {
     "background_save": true,
     "base_uri": "https://localhost:8080/"
    },
    "id": "2ZLy07zKFOO1",
    "outputId": "e4087de7-0e45-4c05-86f4-1453b61999e5"
   },
   "outputs": [
    {
     "name": "stderr",
     "output_type": "stream",
     "text": [
      " 77%|███████▋  | 9299/12000 [2:00:02<31:16,  1.44it/s]"
     ]
    }
   ],
   "source": [
    "cols_to_check = ['norm'] #moral_action,immoral_action,intention,situation,moral_consequence,immoral_consequence\n",
    "errors=[]\n",
    "for col in cols_to_check:\n",
    "    row_n=0\n",
    "    for value in tqdm(final_df[col]):\n",
    "        checker_result = tool.check(value)#tool.correct(value)\n",
    "        time.sleep(0.001)\n",
    "        if checker_result:\n",
    "            errors.append({'ID':row_n,\"source\":value, \"check_info\":checker_result})\n",
    "        row_n+=1"
   ]
  },
  {
   "cell_type": "code",
   "execution_count": null,
   "metadata": {
    "id": "r1PuqNnx7u35"
   },
   "outputs": [],
   "source": [
    "itemised=[]\n",
    "for i in errors:\n",
    "    dict_i={'id': i['ID'],'source':i['source'], 'check_info':{}}\n",
    "    for j,k in enumerate(i['check_info']):\n",
    "        if k:\n",
    "            list_i=[]\n",
    "            list_i.append(k.category)\n",
    "            list_i.append(k.context)\n",
    "            list_i.append(k.errorLength)\n",
    "            list_i.append(k.matchedText)\n",
    "            list_i.append(k.message)\n",
    "            list_i.append(k.offset)\n",
    "            list_i.append(k.offsetInContext)\n",
    "            list_i.append(k.replacements)\n",
    "            list_i.append(k.ruleId)\n",
    "            list_i.append(k.ruleIssueType)\n",
    "            dict_i['check_info'][j]=list_i\n",
    "    itemised.append(dict_i)\n",
    "jsonl_file_path = \"language_tool_norm.jsonl\"\n",
    "with open(jsonl_file_path, 'w', encoding='utf-8') as _file:\n",
    "    for item in itemised:\n",
    "        json.dump(item, _file, ensure_ascii=False)\n",
    "        _file.write('\\n')"
   ]
  },
  {
   "cell_type": "markdown",
   "metadata": {
    "id": "ss5rX3HTfYFa"
   },
   "source": [
    "Examples of suggested corrections\n",
    "\n",
    "```\n",
    "{'source': \"Kévin a misé sur le Prix de l'Arc de Triomphe et a remporté une grosse somme d'argent, donc maintenant il veut faire des courses hippiques son nouveau passe-temps.\",\n",
    "  'check_info': [Match({'ruleId': 'VIRG_NON_TROUVEE', 'message': 'Une virgule est requise.', 'replacements': [', il'], 'offsetInContext': 43, 'context': \"...e grosse somme d'argent, donc maintenant il veut faire des courses hippiques son no...\", 'offset': 102, 'errorLength': 3, 'category': 'PONCTUATION_VIRGULE', 'ruleIssueType': 'uncategorized', 'sentence': \"Kévin a misé sur le Prix de l'Arc de Triomphe et a remporté une grosse somme d'argent, donc maintenant il veut faire des courses hippiques son nouveau passe-temps.\"})]},\n",
    "\n",
    " {'source': 'Jacques est serveur dans un restaurant et un client nommé Jean vient de commander son steak cher très bien cuit, presque brûlé.',\n",
    "  'check_info': [Match({'ruleId': 'AI_FR_HYDRA_LEO_MISSING_COMMA', 'message': 'Une virgule semble être requise.', 'replacements': ['cher,'], 'offsetInContext': 43, 'context': '...nommé Jean vient de commander son steak cher très bien cuit, presque brûlé.', 'offset': 92, 'errorLength': 4, 'category': 'MISC', 'ruleIssueType': 'uncategorized', 'sentence': 'Jacques est serveur dans un restaurant et un client nommé Jean vient de commander son steak cher très bien cuit, presque brûlé.'})]},\n",
    "\n",
    " {'source': \"La petite amie d'Alain souffre de dépression et a laissé leur appartement très désordonné car elle n'a aucune motivation pour le nettoyer.\",\n",
    "  'check_info': [Match({'ruleId': 'PLACE_DE_LA_VIRGULE', 'message': 'Une virgule est conseillée dans ce contexte.', 'replacements': [', car'], 'offsetInContext': 43, 'context': \"... laissé leur appartement très désordonné car elle n'a aucune motivation pour le nett...\", 'offset': 89, 'errorLength': 4, 'category': 'PONCTUATION_VIRGULE', 'ruleIssueType': 'uncategorized', 'sentence': \"La petite amie d'Alain souffre de dépression et a laissé leur appartement très désordonné car elle n'a aucune motivation pour le nettoyer.\"})]},\n",
    "\n",
    " {'source': \"Jeanne est une femme âgée qui n'aime pas prendre des douches car c'est difficile pour elle.\",\n",
    "  'check_info': [Match({'ruleId': 'PLACE_DE_LA_VIRGULE', 'message': 'Une virgule est conseillée dans ce contexte.', 'replacements': [', car'], 'offsetInContext': 43, 'context': \"... âgée qui n'aime pas prendre des douches car c'est difficile pour elle.\", 'offset': 60, 'errorLength': 4, 'category': 'PONCTUATION_VIRGULE', 'ruleIssueType': 'uncategorized', 'sentence': \"Jeanne est une femme âgée qui n'aime pas prendre des douches car c'est difficile pour elle.\"})]},\n",
    "\n",
    "```"
   ]
  },
  {
   "cell_type": "markdown",
   "metadata": {
    "id": "gaoCjy9tj7WA"
   },
   "source": [
    "We save the predictions and manually correct the mistakes where needed."
   ]
  }
 ],
 "metadata": {
  "colab": {
   "provenance": []
  },
  "kernelspec": {
   "display_name": "Python 3 (ipykernel)",
   "language": "python",
   "name": "python3"
  },
  "language_info": {
   "codemirror_mode": {
    "name": "ipython",
    "version": 3
   },
   "file_extension": ".py",
   "mimetype": "text/x-python",
   "name": "python",
   "nbconvert_exporter": "python",
   "pygments_lexer": "ipython3",
   "version": "3.9.7"
  }
 },
 "nbformat": 4,
 "nbformat_minor": 1
}
